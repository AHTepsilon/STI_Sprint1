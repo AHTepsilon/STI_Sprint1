{
 "cells": [
  {
   "cell_type": "code",
   "execution_count": 1,
   "id": "a699e73f-8b53-47fa-8e35-86fcdd9535c8",
   "metadata": {},
   "outputs": [
    {
     "data": {
      "text/plain": [
       "'1.4.2'"
      ]
     },
     "execution_count": 1,
     "metadata": {},
     "output_type": "execute_result"
    }
   ],
   "source": [
    "import pandas as pd\n",
    "import numpy as np\n",
    "pd.__version__"
   ]
  },
  {
   "cell_type": "code",
   "execution_count": 2,
   "id": "e28052e1-eec5-4e1c-a44a-39e76a74549d",
   "metadata": {},
   "outputs": [
    {
     "data": {
      "text/plain": [
       "'1.21.5'"
      ]
     },
     "execution_count": 2,
     "metadata": {},
     "output_type": "execute_result"
    }
   ],
   "source": [
    "np.__version__"
   ]
  },
  {
   "cell_type": "code",
   "execution_count": 3,
   "id": "ebcda455-3a90-4f23-9d44-a64a341c2a8f",
   "metadata": {},
   "outputs": [],
   "source": [
    "data_base = pd.read_csv('Sprint1/database.csv')"
   ]
  },
  {
   "cell_type": "code",
   "execution_count": 4,
   "id": "5afd337b-cabb-43d7-9a16-14ba81005f92",
   "metadata": {},
   "outputs": [],
   "source": [
    "def sortData(value, isAscending):\n",
    "    \n",
    "    sortedDataBase = 0\n",
    "    \n",
    "    if value=='Nombre':\n",
    "        if isAscending == True:\n",
    "            sortedDataBase = data_base.sort_values(by=['Nombre'])\n",
    "        else:\n",
    "            sortedDataBase = data_base.sort_values(by=['Nombre'], ascending=False)\n",
    "    elif value=='Estatura':\n",
    "        if isAscending == True:\n",
    "            sortedDataBase = data_base.sort_values(by=['Estatura (cm)'])\n",
    "        else:\n",
    "            sortedDataBase = data_base.sort_values(by=['Estatura (cm)'], ascending=False)\n",
    "    elif value=='Edad':\n",
    "        if isAscending == True:\n",
    "            sortedDataBase = data_base.sort_values(by=['Edad'])\n",
    "        else:\n",
    "            sortedDataBase = data_base.sort_values(by=['Edad'], ascending=False)\n",
    "    else:\n",
    "        sortedDataBase = \"Término no compatible\"\n",
    "    \n",
    "    print(sortedDataBase)\n",
    "            "
   ]
  },
  {
   "cell_type": "code",
   "execution_count": 5,
   "id": "1aff6273-320e-403c-93be-d06af6b9fe27",
   "metadata": {},
   "outputs": [
    {
     "name": "stdout",
     "output_type": "stream",
     "text": [
      "                Nombre  Estatura (cm)  Edad\n",
      "0       Carlos Ossorio            177    24\n",
      "1        María Padilla            159    26\n",
      "2        María Catalán            162    35\n",
      "3     Fernanda Ramírez            161    19\n",
      "4          Víctor Arce            173    25\n",
      "5           Edith Dalí            156    27\n",
      "6     Gonzalo Iglesias            185    46\n",
      "7        Joel Bautista            180    35\n",
      "8         Ramón Molina            167    59\n",
      "9  Maximiliano Noguera            195    24\n",
      "------------------------------------\n",
      "Seleccione el tipo de filtro que desea hacer para la base de datos \n",
      "1 = Por Nombre, Alfabético \n",
      "2 = Por Nombre, Alfabético Invertido \n",
      "3 = Por Estatura, Ascendente \n",
      "4 = Por Estatura, Descendente \n",
      "5 = Por Edad, Ascendente \n",
      "6 = Por Edad, Descendente\n",
      "------------------------------------\n"
     ]
    },
    {
     "name": "stdin",
     "output_type": "stream",
     "text": [
      " 3\n"
     ]
    },
    {
     "name": "stdout",
     "output_type": "stream",
     "text": [
      "                Nombre  Estatura (cm)  Edad\n",
      "5           Edith Dalí            156    27\n",
      "1        María Padilla            159    26\n",
      "3     Fernanda Ramírez            161    19\n",
      "2        María Catalán            162    35\n",
      "8         Ramón Molina            167    59\n",
      "4          Víctor Arce            173    25\n",
      "0       Carlos Ossorio            177    24\n",
      "7        Joel Bautista            180    35\n",
      "6     Gonzalo Iglesias            185    46\n",
      "9  Maximiliano Noguera            195    24\n"
     ]
    }
   ],
   "source": [
    "print(data_base)\n",
    "print(\"------------------------------------\")\n",
    "print(\"Seleccione el tipo de filtro que desea hacer para la base de datos \\n1 = Por Nombre, Alfabético \\n2 = Por Nombre, Alfabético Invertido \\n3 = Por Estatura, Ascendente \\n4 = Por Estatura, Descendente \\n5 = Por Edad, Ascendente \\n6 = Por Edad, Descendente\")\n",
    "print(\"------------------------------------\")\n",
    "user_input = input()\n",
    "\n",
    "if user_input == '1':\n",
    "    sortData('Nombre', True)\n",
    "elif user_input == '2':\n",
    "    sortData('Nombre', False)\n",
    "elif user_input == '3':\n",
    "    sortData('Estatura', True)\n",
    "elif user_input == '4':\n",
    "    sortData('Estatura', False)\n",
    "elif user_input == '5':\n",
    "    sortData('Edad', True)\n",
    "elif user_input == '6':\n",
    "    sortData('Edad', False)\n",
    "else:\n",
    "    print(\"Término no válido, por favor escoja otro número\")"
   ]
  },
  {
   "cell_type": "code",
   "execution_count": null,
   "id": "0a0587f7-d955-457c-85ea-f6c32a187f81",
   "metadata": {},
   "outputs": [],
   "source": []
  }
 ],
 "metadata": {
  "kernelspec": {
   "display_name": "Python 3 (ipykernel)",
   "language": "python",
   "name": "python3"
  },
  "language_info": {
   "codemirror_mode": {
    "name": "ipython",
    "version": 3
   },
   "file_extension": ".py",
   "mimetype": "text/x-python",
   "name": "python",
   "nbconvert_exporter": "python",
   "pygments_lexer": "ipython3",
   "version": "3.9.12"
  }
 },
 "nbformat": 4,
 "nbformat_minor": 5
}
